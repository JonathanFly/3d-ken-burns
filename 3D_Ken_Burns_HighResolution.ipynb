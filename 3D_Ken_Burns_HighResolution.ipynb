{
  "nbformat": 4,
  "nbformat_minor": 0,
  "metadata": {
    "colab": {
      "name": "3D_Ken_Burns_HighResolution.ipynb",
      "provenance": [],
      "collapsed_sections": [],
      "toc_visible": true,
      "include_colab_link": true
    },
    "kernelspec": {
      "name": "python3",
      "display_name": "Python 3"
    },
    "accelerator": "GPU"
  },
  "cells": [
    {
      "cell_type": "markdown",
      "metadata": {
        "id": "view-in-github",
        "colab_type": "text"
      },
      "source": [
        "<a href=\"https://colab.research.google.com/github/JonathanFly/3d-ken-burns/blob/master/3D_Ken_Burns_HighResolution.ipynb\" target=\"_parent\"><img src=\"https://colab.research.google.com/assets/colab-badge.svg\" alt=\"Open In Colab\"/></a>"
      ]
    },
    {
      "cell_type": "markdown",
      "metadata": {
        "id": "A8Nop9pf84kR",
        "colab_type": "text"
      },
      "source": [
        "# Automatic 3D Ken Burns Effect from a Single Image\n",
        "### Updated version with Full Rez & FPS selection\n",
        "\n",
        "A PyTorch based implementation of the techniques presented in the following paper: ['3D Ken Burns Effect from a Single Image'](https://arxiv.org/abs/1909.05483).\n",
        "\n",
        "## Note\n",
        "Before running this notebook make sure that your runtime type is 'Python 3 with GPU acceleration'.\n",
        "\n",
        "## Credits\n",
        "- Original Implementation by: [Simon Niklaus](https://github.com/sniklaus/3d-ken-burns)\n",
        "- Updated Implementation by: [Preston Allen - pressreset](https://github.com/pressreset/Multi-FPS-Full-Rez-3d-ken-burns)\n",
        "- Original Google Colab notebook by: [Arnaldo Gabriel](https://github.com/agmm/colab-3d-ken-burns)\n",
        "- Updated Google Colab by: [Preston Allen - pressreset](https://github.com/pressreset/Colab-Multi-FPS-Full-Rez-3d-Ken-Burns)\n",
        "- A few bug fixes to Colab by [https://twitter.com/jonathanfly](https://twitter.com/jonathanfly)\n",
        "\n",
        "## More Info\n",
        "- Paper: https://arxiv.org/abs/1909.05483\n",
        "- Repo: https://github.com/sniklaus/3d-ken-burns\n",
        "- Video: https://www.youtube.com/watch?v=WrajxHHfRBA"
      ]
    },
    {
      "cell_type": "code",
      "metadata": {
        "id": "i6Aha-7YPALc",
        "colab_type": "code",
        "colab": {}
      },
      "source": [
        "# Setup Everything. This takes quite awhile.\n",
        "!git clone https://github.com/JonathanFly/3d-ken-burns.git\n",
        "# Move into the downloaded repository\n",
        "%cd /content/3d-ken-burns\n",
        "# Install dependencies\n",
        "!pip install moviepy gevent\n",
        "# !pip install cupy # looks like we can skip this, default version is fine\n",
        "# Setup environment variable for CUDA\n",
        "%env CUDA_HOME=/usr/local/cuda\n",
        "# Download the pre-trained models\n",
        "!bash download.bash"
      ],
      "execution_count": null,
      "outputs": []
    },
    {
      "cell_type": "code",
      "metadata": {
        "id": "xRKTTOPffAXL",
        "colab_type": "code",
        "colab": {}
      },
      "source": [
        "#if this notebook stops working, first try uncommenting out the next line, I slimmed down the setup to save time.\n",
        "#!pip install -r requirements.txt"
      ],
      "execution_count": null,
      "outputs": []
    },
    {
      "cell_type": "code",
      "metadata": {
        "id": "mfJbJKDedxTZ",
        "colab_type": "code",
        "colab": {}
      },
      "source": [
        "#Testing Output, can skip this cell.\n",
        "!wget https://wallpaperaccess.com/full/1267.jpg --output-document ./images/TokyoHighRez.jpg\n",
        "!python autozoom.py --in ./images/TokyoHighRez.jpg --out ./videos/TokyoHighRez_original_resolution.mp4\n",
        "!python fullrez.py --fps 30 --bitrate \"18M\" --in ./images/TokyoHighRez.jpg --out ./videos/TokyoHighRez_highresolution.mp4"
      ],
      "execution_count": null,
      "outputs": []
    },
    {
      "cell_type": "code",
      "metadata": {
        "id": "ntxGB3XLfDCC",
        "colab_type": "code",
        "colab": {}
      },
      "source": [
        "#!zip -r 3d_ken_burns_models_8_03_2020.zip /content/3d-ken-burns/models\n",
        "#you may want to save the models this notebook downloads, they are being personally hosted by the author of the original project and may not always be available.\n",
        "#they'll be in the 3d_ken_burns_models_8_03_2020.zip file and you can put them back in /models if the download fails in the future."
      ],
      "execution_count": null,
      "outputs": []
    },
    {
      "cell_type": "markdown",
      "metadata": {
        "id": "hoy9wyVCbM4p",
        "colab_type": "text"
      },
      "source": [
        "\n",
        "\n",
        "---\n",
        "\n",
        "#### fullrez.py\n",
        "Process single file at full rez.\n",
        "\n",
        "fullrez.py will process the image at full resolution. You can process HD (1920x1080) and 2k (3840x2160) images on a 16GB card, and possibly a 11GB card. There's no sanity check it will just crash if the image is too big.\n",
        "\n",
        "> Options are:\n",
        "\n",
        "*   --fps (integer value) | default: 30\n",
        "*   --bitrate (string value) | default: \"12M\"\n",
        "*   --in (/directory path/filename.[ jpg | png ]) | default: ./images/doublestrike.jpg\n",
        "*   --out (/directory path/filename.mp4) | default: ./videos/fullrez.mp4\n",
        "\n",
        "> Examples:\n",
        "\n",
        "> !python fullrez.py --fps 60 --in ./images/myimage.png\n",
        "\n",
        "> !python fullrez.py --fps 30 --bitrate \"18M\" --in ./images/doublestrike.jpg --out ./videos/doublestrike.mp4\n",
        "\n",
        "Click the refresh icon in the file manager on the left if you don't see your video files after you run it.\n",
        "\n",
        "\n"
      ]
    },
    {
      "cell_type": "code",
      "metadata": {
        "id": "nhYMOzb_aiID",
        "colab_type": "code",
        "colab": {}
      },
      "source": [
        "# Generate fullrez video\n",
        "!python fullrez.py --fps 30 --bitrate \"18M\" --in ./images/doublestrike.jpg --out ./videos/doublestrike.mp4"
      ],
      "execution_count": null,
      "outputs": []
    },
    {
      "cell_type": "markdown",
      "metadata": {
        "id": "g9Xwp5GmXUBz",
        "colab_type": "text"
      },
      "source": [
        "# Changing Zoom targets and levels\n",
        "\n",
        "You can customize `objectFrom` and `objectTo` here. \n",
        "\n",
        "`'fltZoom': 1.25` is the zoom level but for very large zoom you will also need to increase:\n",
        "\n",
        "`'fltSteps': numpy.linspace(0.0, 1.0, 75)`\n",
        "change to:\n",
        "`'fltSteps': numpy.linspace(0.0, 10.0, 75)`\n",
        "\n",
        "(10.0 is just an example.)\n",
        "\n",
        "You might also want to try changing the `75` a larger number will slow down the camera movement. For example:\n",
        "\n",
        "`'fltSteps': numpy.linspace(0.0, 10.0, 275)`\n",
        "\n",
        "In general the more you increase the zoom way past what this designed for the more you want to turn down `'fltShift': 100.0` so if you zoom far try `10.0` instead of `100.0`. The camera will fly way off to the side if you don't. You can get some angles by changing the center points but it often results in a crash.\n",
        "\n",
        "To update fullrez.py click the play button on the cell below after making your changes. Every time you make another change you have to click the cell play button again to update the file.\n",
        "\n",
        "If you are looking for more things to tweak take a look at common.py.\n",
        "\n",
        "If you get strange errors editing fullrez.py in the Colab cell, it's might be spaces and tabs related. You can also edit the file by double clicking it on the left in Colab."
      ]
    },
    {
      "cell_type": "code",
      "metadata": {
        "id": "N6o4qd39TMVA",
        "colab_type": "code",
        "colab": {}
      },
      "source": [
        "%%writefile /content/3d-ken-burns/fullrez.py\n",
        "#You can edit this cell then click the play button to update the file.\n",
        "#Colab also lets you edit this file by double clicking on it on the left. \n",
        "#!/usr/bin/env python\n",
        "import torch\n",
        "import torchvision\n",
        "\n",
        "import base64\n",
        "import cupy\n",
        "import cv2\n",
        "import flask\n",
        "import getopt\n",
        "import gevent\n",
        "import gevent.pywsgi\n",
        "import glob\n",
        "import h5py\n",
        "import io\n",
        "import math\n",
        "import moviepy\n",
        "import moviepy.editor\n",
        "import numpy\n",
        "import os\n",
        "import random\n",
        "import re\n",
        "import scipy\n",
        "import scipy.io\n",
        "import shutil\n",
        "import sys\n",
        "import tempfile\n",
        "import time\n",
        "import urllib\n",
        "import zipfile\n",
        "\n",
        "##########################################################\n",
        "\n",
        "assert(int(str('').join(torch.__version__.split('.')[0:2])) >= 12) # requires at least pytorch version 1.2.0\n",
        "\n",
        "torch.set_grad_enabled(False) # make sure to not compute gradients for computational performance\n",
        "\n",
        "torch.backends.cudnn.enabled = True # make sure to use cudnn for computational performance\n",
        "\n",
        "##########################################################\n",
        "\n",
        "objCommon = {}\n",
        "\n",
        "exec(open('./common.py', 'r').read())\n",
        "\n",
        "exec(open('./models/disparity-estimation.py', 'r').read())\n",
        "exec(open('./models/disparity-adjustment.py', 'r').read())\n",
        "exec(open('./models/disparity-refinement.py', 'r').read())\n",
        "exec(open('./models/pointcloud-inpainting.py', 'r').read())\n",
        "\n",
        "##########################################################\n",
        "\n",
        "arguments_strIn = './images/doublestrike.jpg'\n",
        "arguments_strOut = './videos/fullrez.mp4'\n",
        "arguments_strFps = '30'\n",
        "arguments_strBitRate = \"12M\"\n",
        "\n",
        "for strOption, strArgument in getopt.getopt(sys.argv[1:], '', [ strParameter[2:] + '=' for strParameter in sys.argv[1::2] ])[0]:\n",
        "\tif strOption == '--fps' and strArgument != '': arguments_strFps = strArgument # allow FPS value selection from cmd line\n",
        "\tif strOption == '--bitrate' and strArgument != '': arguments_strBitRate = strArgument # allow FPS value selection from cmd line\n",
        "\tif strOption == '--in' and strArgument != '': arguments_strIn = strArgument # path to the input image\n",
        "\tif strOption == '--out' and strArgument != '': arguments_strOut = strArgument # path to where the output should be stored\n",
        "\t# end\n",
        "\n",
        "\t##########################################################\n",
        "\n",
        "if __name__ == '__main__':\n",
        "\tnpyImage = cv2.imread(filename=arguments_strIn, flags=cv2.IMREAD_COLOR)\n",
        "\n",
        "\tintWidth = npyImage.shape[1]\n",
        "\tintHeight = npyImage.shape[0]\n",
        "\n",
        "\tfltRatio = float(intWidth) / float(intHeight)\n",
        "\n",
        "\t#intWidth = min(int(1024 * fltRatio), 1024)\n",
        "\t#intHeight = min(int(1024 / fltRatio), 1024)\n",
        "\n",
        "\t#npyImage = cv2.resize(src=npyImage, dsize=(intWidth, intHeight), fx=0.0, fy=0.0, interpolation=cv2.INTER_AREA)\n",
        "\n",
        "\tprocess_load(npyImage, {})\n",
        "\n",
        "\tobjFrom = {\n",
        "\t'fltCenterU': intWidth / 2.0, #You can play with these but some settings will crash it or produce a bad video file\n",
        "\t'fltCenterV': intHeight / 2.0, #You can play with these but some settings will crash it or produce a bad video file\n",
        "\t'intCropWidth': int(math.floor(0.97 * intWidth)),\n",
        "\t'intCropHeight': int(math.floor(0.97 * intHeight))\n",
        "\t}\n",
        "\n",
        "\tobjTo = process_autozoom({\n",
        "    #'fltCenterU': intWidth / 2.0, #Not sure of effect\n",
        "\t#'fltCenterV': intHeight / 2.0, #Not sure of effect\n",
        "\t'fltShift': 100.0,\n",
        "\t#'fltShift': 10.0, # try this with large zooms\n",
        "\t'fltZoom': 1.25,\n",
        "\t#'fltZoom': 40.25, # 40x zoom\n",
        "\t'objFrom': objFrom\n",
        "\t})\n",
        "\n",
        "\tnpyResult = process_kenburns({\n",
        "\t#'fltSteps': numpy.linspace(0.0, 1.0, 75).tolist(), #Default Setting\n",
        "\t'fltSteps': numpy.linspace(0.0, 40.0, 800).tolist(), #example very large zoom, 800 frames\n",
        "\t#'fltSteps': numpy.linspace(0.0, 20.0, 275).tolist(), # Zoom x20 and 275 frames \n",
        "\t'objFrom': objFrom,\n",
        "\t'objTo': objTo,\n",
        "\t'boolInpaint': True\n",
        "\t})\n",
        "\n",
        "\tmoviepy.editor.ImageSequenceClip(sequence=[ npyFrame[:, :, ::-1] for npyFrame in npyResult + list(reversed(npyResult))[1:] ], fps=int(arguments_strFps)).write_videofile(arguments_strOut, bitrate=arguments_strBitRate)\n"
      ],
      "execution_count": null,
      "outputs": []
    },
    {
      "cell_type": "markdown",
      "metadata": {
        "id": "8cZmeJlOVAGy",
        "colab_type": "text"
      },
      "source": [
        "# Video Won't Play?\n",
        "Some resolution input images and settings produce mp4 files that video players don't like. You can reencode the video here if you need to. \n",
        "\n",
        "`-b:v 24000k is the bitrate.`\n",
        "\n"
      ]
    },
    {
      "cell_type": "code",
      "metadata": {
        "id": "soi0PYZaU_YS",
        "colab_type": "code",
        "colab": {}
      },
      "source": [
        "!ffmpeg -y -i ./videos/doublestrike.mp4 -vf \"pad=ceil(iw/2)*2:ceil(ih/2)*2\" -c:v libx264 -crf 17 -b:v 24000k -pix_fmt yuv420p ./videos/doublestrike_fixed.mp4"
      ],
      "execution_count": null,
      "outputs": []
    },
    {
      "cell_type": "markdown",
      "metadata": {
        "id": "7weWH-cMaFvg",
        "colab_type": "text"
      },
      "source": [
        "Click below to play the generated video in the Colab Notebook. If you would like to re-run, start from the generator scripts above again and re-click this cell to update the video. You can also find your .mp4 file in the \"Files\" tab to the left."
      ]
    },
    {
      "cell_type": "code",
      "metadata": {
        "id": "Tlwr5Lj7uQgB",
        "colab_type": "code",
        "colab": {}
      },
      "source": [
        "# Show the generated video in this cell\n",
        "# To download instead, right click the .mp4 file in the file manager on the left (the folder icon) and find the file, right click, download\n",
        "from IPython.display import HTML\n",
        "from base64 import b64encode\n",
        "\n",
        "def video(path):\n",
        "  mp4 = open(path,'rb').read()\n",
        "  data_url = \"data:video/mp4;base64,\" + b64encode(mp4).decode()\n",
        "  return HTML('<video width=500 controls loop> <source src=\"%s\" type=\"video/mp4\"></video>' % data_url)\n",
        "\n",
        "video('./videos/TokyoHighRez.mp4')"
      ],
      "execution_count": null,
      "outputs": []
    },
    {
      "cell_type": "markdown",
      "metadata": {
        "id": "dKi4MwRr65q2",
        "colab_type": "text"
      },
      "source": [
        "# Old Stuff, didn't touch."
      ]
    },
    {
      "cell_type": "code",
      "metadata": {
        "id": "_tQRkhrSaSVN",
        "colab_type": "code",
        "colab": {}
      },
      "source": [
        "# Generate multiple videos from directory (old version)\n",
        "#!python multi.py --fps 24\n",
        "# Generate the autozoom video (original version)\n",
        "#!python autozoom.py --fps '24' --in ./images/doublestrike.jpg"
      ],
      "execution_count": null,
      "outputs": []
    },
    {
      "cell_type": "markdown",
      "metadata": {
        "id": "nAYk7TWdfRl4",
        "colab_type": "text"
      },
      "source": [
        "# Interface Test\n",
        "\n",
        "Run the cell below, then click the link that appears in a different browser tab. You will see an interface to use this project. Is is very slow and I didn't make it work at different zoom or resolution levels. \n",
        "\n",
        "If you push 1 or spacebar on the UI screen and use the browser dev tools, it will log the zoom levels which may give you a starting point for additional customizations. Example: `{\"strFile\":\"filename.jpg\",\"objFrom\":{\"fltCenterU\":613.0666666666667,\"fltCenterV\":491.79999999999995,\"intCropWidth\":731.2,\"intCropHeight\":548.4},\"objTo\":{\"fltCenterU\":547.2,\"fltCenterV\":406.1333333333333,\"intCropWidth\":953.6,\"intCropHeight\":715.2}}`\n",
        "\n",
        " When you click the far right icon it will render out the video file, which takes while."
      ]
    },
    {
      "cell_type": "code",
      "metadata": {
        "id": "GUGjDZi1fT6x",
        "colab_type": "code",
        "colab": {}
      },
      "source": [
        "#Get an internet accessible address to the local server from interface.py. Changed server port in interface.py to 8050\n",
        "from google.colab.output import eval_js\n",
        "print(eval_js(\"google.colab.kernel.proxyPort(8050)\") + 'interface.html')\n",
        "# Will be something like: https://z4spb7cvssd-496ff2e9c6d22116-8050-colab.googleusercontent.com/\n",
        "\n",
        "#Run the interface\n",
        "!python interface.py --port 8050"
      ],
      "execution_count": null,
      "outputs": []
    }
  ]
}